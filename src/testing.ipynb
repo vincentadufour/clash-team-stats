{
 "cells": [
  {
   "cell_type": "markdown",
   "metadata": {},
   "source": [
    "## Testing Notebook\n",
    "This Jupyter Notebook is an environment to quickly test APIs or functions"
   ]
  },
  {
   "cell_type": "code",
   "execution_count": 1,
   "metadata": {},
   "outputs": [],
   "source": [
    "import csv\n",
    "import json\n",
    "import requests\n",
    "import pandas as pd\n",
    "from dotenv import load_dotenv\n",
    "import os\n",
    "\n",
    "load_dotenv()\n",
    "\n",
    "api_key = os.getenv(\"api_key\")\n",
    "\n",
    "# puuid's by player, variable name only first four letters\n",
    "arch_puuid = \"JIkyz_0k_yLCeRtdeX6TVG58zaY3-iMo_ZD8mt33v39pSBKq6utCRZgIASdJY1xaWsoc14hH62v8uQ\"\n",
    "beef_puuid = \"XdL7jreLA-rGz1Evy2aleoPaXfYu4ELwaate5BDTbT-XmNRlBBWN-TVL7D7MDZrFoFsgp7m0z2t-Xg\"\n",
    "mike_puuid = \"g1Q2YIIXGBesYlHmTAAuLYDqn7ZRrg_UVLF_DURQwN9jDeOaiG-cMlesehqoWGusRCtF1Nh2Ib45FQ\"\n",
    "moon_puuid = \"CbgRckJL3hD1JOBSaIgmfPxw2fMdhHmOLk3SeJlTFT5kYodHIi7EXGULgvyBfyOj5pIFzCkvMNkH8Q\"\n",
    "xios_puuid = \"CoIyAMP5-u4Qx1yD3IaJ84AUlC0x9ROFplfTSzhV4taoBO_QItb3sPassmE4cVIhL_0nUlNh4MVa1w\"\n",
    "zate_puuid = \"3vNsGPDiUfFu1_jVUx0hv7eUNzyWKsCvgrqmmH6CzJZ07Q8P-fQJuD7o7WnyD1J3I811r9pkcRG8Cg\"\n",
    "\n",
    "all_players = [arch_puuid, beef_puuid, mike_puuid, moon_puuid, xios_puuid, zate_puuid]"
   ]
  },
  {
   "cell_type": "code",
   "execution_count": null,
   "metadata": {},
   "outputs": [],
   "source": [
    "def getAllGames(puuid, api_key=api_key):\n",
    "    # will need to loop through matchv5 api call to retrieve 0-100, then 101-200, then 201-300, etc\n",
    "    # will need to have a try: catch to catch when there aren't 100 games left to pull\n",
    "    # ^ this means the loop needs to have a try: catch as part of the loop since we won't know when we're getting close to the last call\n",
    "    # we want the json data to be converting to a dataframe instantly after retrieval, to do that, it needs to be normalized as it comes in\n",
    "    # then we need a better way to store dataframes locally - maybe by saving them as .csv, then we can load from those if we ever need to manually retrieve old data\n",
    "    # instead of doing it by api calls\n",
    "\n",
    "    data = \"placeholder\"\n",
    "    start = 0\n",
    "\n",
    "    # stop once data is empty\n",
    "    while data:\n",
    "\n",
    "        # constructing url\n",
    "        constructed_url = \"https://americas.api.riotgames.com/lol/match/v5/matches/by-puuid/\" + puuid + \"/ids?start=\" + start + \"&count=100&api_key=\" + api_key\n",
    "\n",
    "    \n",
    "\n",
    "\n",
    "\n",
    "    return None"
   ]
  },
  {
   "cell_type": "code",
   "execution_count": 3,
   "metadata": {},
   "outputs": [
    {
     "name": "stdout",
     "output_type": "stream",
     "text": [
      "['NA1_4657725923', 'NA1_4657694925', 'NA1_4657639581', 'NA1_4655330008', 'NA1_4655290955', 'NA1_4655249485', 'NA1_4654975544', 'NA1_4653175452', 'NA1_4653153564', 'NA1_4652571856', 'NA1_4652523111', 'NA1_4652487832', 'NA1_4651784917', 'NA1_4651728383', 'NA1_4651016389', 'NA1_4650975548', 'NA1_4649939548', 'NA1_4649896862', 'NA1_4646518984', 'NA1_4646473524', 'NA1_4646459654', 'NA1_4645689715', 'NA1_4645647466', 'NA1_4644900737', 'NA1_4644857257', 'NA1_4642629424', 'NA1_4642602670', 'NA1_4639775299', 'NA1_4639729009', 'NA1_4639676361', 'NA1_4639626912', 'NA1_4638931527', 'NA1_4638874492', 'NA1_4638670847', 'NA1_4638017255', 'NA1_4637965969', 'NA1_4637911262', 'NA1_4637115141', 'NA1_4637055586', 'NA1_4637010994', 'NA1_4636903385', 'NA1_4634432127', 'NA1_4633543816', 'NA1_4633491027', 'NA1_4632830683', 'NA1_4632799337', 'NA1_4632761373', 'NA1_4632728659', 'NA1_4631456502', 'NA1_4631463920', 'NA1_4631438247', 'NA1_4631084485', 'NA1_4631039995', 'NA1_4630982713', 'NA1_4630958607', 'NA1_4630933058', 'NA1_4630537854', 'NA1_4630162310', 'NA1_4630123595', 'NA1_4630101765', 'NA1_4629879736', 'NA1_4629833448', 'NA1_4629819185', 'NA1_4629797317', 'NA1_4629345050', 'NA1_4629319903', 'NA1_4629278256', 'NA1_4629236998', 'NA1_4629203314', 'NA1_4629162266', 'NA1_4629149323', 'NA1_4628416547', 'NA1_4628392305', 'NA1_4628330866', 'NA1_4626795058', 'NA1_4626757839', 'NA1_4625799739', 'NA1_4625739645', 'NA1_4625681431', 'NA1_4624868505', 'NA1_4624745628', 'NA1_4624109511', 'NA1_4624048644', 'NA1_4623709309', 'NA1_4623150094', 'NA1_4622221506', 'NA1_4622204175', 'NA1_4622157925', 'NA1_4621339987', 'NA1_4620458115', 'NA1_4620426829', 'NA1_4620383342']\n",
      "True\n"
     ]
    }
   ],
   "source": [
    "constructed_url = \"https://americas.api.riotgames.com/lol/match/v5/matches/by-puuid/3vNsGPDiUfFu1_jVUx0hv7eUNzyWKsCvgrqmmH6CzJZ07Q8P-fQJuD7o7WnyD1J3I811r9pkcRG8Cg/ids?start=700&count=100&api_key=RGAPI-8958fd12-5e97-4866-ab04-026c21665692\"\n",
    "\n",
    "# calling api key and storing as json\n",
    "match_ids = (requests.get(constructed_url)).json()\n",
    "print(match_ids)\n",
    "\n",
    "if match_ids:\n",
    "    print(\"True\")\n",
    "else:\n",
    "    print(\"False\")\n"
   ]
  },
  {
   "cell_type": "code",
   "execution_count": null,
   "metadata": {},
   "outputs": [],
   "source": []
  }
 ],
 "metadata": {
  "kernelspec": {
   "display_name": "Python 3",
   "language": "python",
   "name": "python3"
  },
  "language_info": {
   "codemirror_mode": {
    "name": "ipython",
    "version": 3
   },
   "file_extension": ".py",
   "mimetype": "text/x-python",
   "name": "python",
   "nbconvert_exporter": "python",
   "pygments_lexer": "ipython3",
   "version": "3.11.9"
  }
 },
 "nbformat": 4,
 "nbformat_minor": 2
}
